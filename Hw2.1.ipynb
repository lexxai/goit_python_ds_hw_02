{
  "nbformat": 4,
  "nbformat_minor": 0,
  "metadata": {
    "colab": {
      "provenance": [],
      "authorship_tag": "ABX9TyPt27QdJ3plef7olkd/cony",
      "include_colab_link": true
    },
    "kernelspec": {
      "name": "python3",
      "display_name": "Python 3"
    },
    "language_info": {
      "name": "python"
    }
  },
  "cells": [
    {
      "cell_type": "markdown",
      "metadata": {
        "id": "view-in-github",
        "colab_type": "text"
      },
      "source": [
        "<a href=\"https://colab.research.google.com/github/lexxai/goit_python_ds_hw_02/blob/main/Hw2.1.ipynb\" target=\"_parent\"><img src=\"https://colab.research.google.com/assets/colab-badge.svg\" alt=\"Open In Colab\"/></a>"
      ]
    },
    {
      "cell_type": "markdown",
      "source": [
        "\n",
        "\n",
        "# Частина перша: Знайомство з Pandas\n",
        "\n"
      ],
      "metadata": {
        "id": "4k0U4OTITZje"
      }
    },
    {
      "cell_type": "code",
      "execution_count": 55,
      "metadata": {
        "id": "48fLL1yCIo73"
      },
      "outputs": [],
      "source": [
        "import pandas as pd\n",
        "\n",
        "URL=\"https://uk.wikipedia.org/wiki/%D0%9D%D0%B0%D1%81%D0%B5%D0%BB%D0%B5%D0%BD%D0%BD%D1%8F_%D0%A3%D0%BA%D1%80%D0%B0%D1%97%D0%BD%D0%B8\"\n",
        "TABLE_NAME = \"Коефіцієнт народжуваності в регіонах України\"\n",
        "data = pd.read_html(URL, match=TABLE_NAME)\n",
        "if data:\n",
        "  df= data[0]\n",
        "assert df is not None, \"DATA NOT READ FROM THE WIKI\""
      ]
    },
    {
      "cell_type": "markdown",
      "source": [
        "# Вивести перші рядки таблиці за допомогою методу head"
      ],
      "metadata": {
        "id": "t2yzKZ37xeLE"
      }
    },
    {
      "cell_type": "code",
      "source": [
        "print(df.head())"
      ],
      "metadata": {
        "colab": {
          "base_uri": "https://localhost:8080/"
        },
        "id": "xBqQxG8zTjUo",
        "outputId": "cb542bd3-0fa1-4a22-dcde-dcce49c28218"
      },
      "execution_count": 56,
      "outputs": [
        {
          "output_type": "stream",
          "name": "stdout",
          "text": [
            "             Регіон   1950   1960   1970  1990  2000  2012 2014 2019\n",
            "0              Крим  230.0  206.0  160.0   130    73   126    —    —\n",
            "1         Вінницька  224.0  192.0  142.0   124    84   112  109   76\n",
            "2         Волинська  247.0  250.0  179.0   153   112   148  141  101\n",
            "3  Дніпропетровська  204.0  204.0  151.0   123    71   112  111   71\n",
            "4          Донецька  271.0  214.0  140.0   109    61    98   82    —\n"
          ]
        }
      ]
    },
    {
      "cell_type": "markdown",
      "source": [
        "# Визначте кількість рядків та стовпців у датафреймі (атрибут shape)"
      ],
      "metadata": {
        "id": "I-Nj6FFHxavG"
      }
    },
    {
      "cell_type": "code",
      "source": [
        "print(df.shape)"
      ],
      "metadata": {
        "colab": {
          "base_uri": "https://localhost:8080/"
        },
        "id": "9QnENWFDTZCa",
        "outputId": "b1256f67-974e-418c-8c5e-445b98afb399"
      },
      "execution_count": 57,
      "outputs": [
        {
          "output_type": "stream",
          "name": "stdout",
          "text": [
            "(28, 9)\n"
          ]
        }
      ]
    },
    {
      "cell_type": "markdown",
      "source": [
        "# Замініть у таблиці значення \"—\" на значення NaN"
      ],
      "metadata": {
        "id": "unYDrk2DxOFO"
      }
    },
    {
      "cell_type": "code",
      "source": [
        "print(df.where(df==\"—\").head(5))\n",
        "\n",
        "filtered_df = df[df.apply(lambda row: '—' in row.values, axis=1)]\n",
        "print(filtered_df.head())\n",
        "\n",
        "df=df.replace(\"—\", \"NaN\")\n",
        "print(df.head())\n"
      ],
      "metadata": {
        "colab": {
          "base_uri": "https://localhost:8080/"
        },
        "id": "-ilvCVIfVKGc",
        "outputId": "0d0cb4d4-31de-4143-d259-aafe5cacb908"
      },
      "execution_count": 58,
      "outputs": [
        {
          "output_type": "stream",
          "name": "stdout",
          "text": [
            "  Регіон  1950  1960  1970  1990  2000  2012 2014 2019\n",
            "0    NaN   NaN   NaN   NaN   NaN   NaN   NaN    —    —\n",
            "1    NaN   NaN   NaN   NaN   NaN   NaN   NaN  NaN  NaN\n",
            "2    NaN   NaN   NaN   NaN   NaN   NaN   NaN  NaN  NaN\n",
            "3    NaN   NaN   NaN   NaN   NaN   NaN   NaN  NaN  NaN\n",
            "4    NaN   NaN   NaN   NaN   NaN   NaN   NaN  NaN    —\n",
            "         Регіон   1950   1960   1970  1990  2000  2012 2014 2019\n",
            "0          Крим  230.0  206.0  160.0   130    73   126    —    —\n",
            "4      Донецька  271.0  214.0  140.0   109    61    98   82    —\n",
            "11    Луганська  262.0  235.0  144.0   116    62    96   51    —\n",
            "26  Севастополь    NaN    NaN    NaN   125    70   120    —    —\n",
            "             Регіон   1950   1960   1970  1990  2000  2012 2014 2019\n",
            "0              Крим  230.0  206.0  160.0   130    73   126  NaN  NaN\n",
            "1         Вінницька  224.0  192.0  142.0   124    84   112  109   76\n",
            "2         Волинська  247.0  250.0  179.0   153   112   148  141  101\n",
            "3  Дніпропетровська  204.0  204.0  151.0   123    71   112  111   71\n",
            "4          Донецька  271.0  214.0  140.0   109    61    98   82  NaN\n"
          ]
        }
      ]
    },
    {
      "cell_type": "markdown",
      "source": [
        "# Визначте типи всіх стовпців за допомогою dataframe.dtypes"
      ],
      "metadata": {
        "id": "qGsk8ZAmxVca"
      }
    },
    {
      "cell_type": "code",
      "source": [
        "print(df[df.columns].dtypes)"
      ],
      "metadata": {
        "colab": {
          "base_uri": "https://localhost:8080/"
        },
        "id": "Ccjd-HnSxXHd",
        "outputId": "9376612b-92ed-4e3a-bc32-692472b279b7"
      },
      "execution_count": 59,
      "outputs": [
        {
          "output_type": "stream",
          "name": "stdout",
          "text": [
            "Регіон     object\n",
            "1950      float64\n",
            "1960      float64\n",
            "1970      float64\n",
            "1990        int64\n",
            "2000        int64\n",
            "2012        int64\n",
            "2014       object\n",
            "2019       object\n",
            "dtype: object\n"
          ]
        }
      ]
    },
    {
      "cell_type": "markdown",
      "source": [
        "# Замініть типи нечислових колонок на числові. Підказка - це колонки, де знаходився символ \"—\""
      ],
      "metadata": {
        "id": "Z9jlOtiv520D"
      }
    },
    {
      "cell_type": "code",
      "source": [
        "print(df[df.columns[1:]].dtypes)\n",
        "df[df.columns[1:]] = df[df.columns[1:]].apply(pd.to_numeric, errors='coerce')\n",
        "print()\n",
        "print(df.dtypes)"
      ],
      "metadata": {
        "colab": {
          "base_uri": "https://localhost:8080/"
        },
        "id": "ePu9bctC54Cu",
        "outputId": "82f2767f-0d93-44e7-a8e1-d92fd406f622"
      },
      "execution_count": 60,
      "outputs": [
        {
          "output_type": "stream",
          "name": "stdout",
          "text": [
            "1950    float64\n",
            "1960    float64\n",
            "1970    float64\n",
            "1990      int64\n",
            "2000      int64\n",
            "2012      int64\n",
            "2014     object\n",
            "2019     object\n",
            "dtype: object\n",
            "\n",
            "Регіон     object\n",
            "1950      float64\n",
            "1960      float64\n",
            "1970      float64\n",
            "1990        int64\n",
            "2000        int64\n",
            "2012        int64\n",
            "2014      float64\n",
            "2019      float64\n",
            "dtype: object\n"
          ]
        }
      ]
    },
    {
      "cell_type": "markdown",
      "source": [
        "# Порахуйте, яка частка пропусків міститься в кожній колонці (використовуйте методи isnull та sum)"
      ],
      "metadata": {
        "id": "PXii72nPAqZk"
      }
    },
    {
      "cell_type": "code",
      "source": [
        "df.isnull().sum()"
      ],
      "metadata": {
        "colab": {
          "base_uri": "https://localhost:8080/"
        },
        "id": "K_RLyzgfAtA0",
        "outputId": "2da1afb1-23ab-462c-9675-b20fdf3ff282"
      },
      "execution_count": 61,
      "outputs": [
        {
          "output_type": "execute_result",
          "data": {
            "text/plain": [
              "Регіон    0\n",
              "1950      2\n",
              "1960      1\n",
              "1970      1\n",
              "1990      0\n",
              "2000      0\n",
              "2012      0\n",
              "2014      2\n",
              "2019      4\n",
              "dtype: int64"
            ]
          },
          "metadata": {},
          "execution_count": 61
        }
      ]
    },
    {
      "cell_type": "markdown",
      "source": [
        "# Видаліть з таблиці дані по всій країні, останній рядок таблиці"
      ],
      "metadata": {
        "id": "cZUgC8ayCpJX"
      }
    },
    {
      "cell_type": "code",
      "source": [
        "print(df.tail())\n",
        "print(df.shape)\n",
        "df=df.iloc[:-1]\n",
        "print(df.shape)\n",
        "print(df.tail())"
      ],
      "metadata": {
        "colab": {
          "base_uri": "https://localhost:8080/"
        },
        "id": "MZ6HdMy-xJ5X",
        "outputId": "83ce0455-d215-442e-9b0a-c3eb127eb7c2"
      },
      "execution_count": 62,
      "outputs": [
        {
          "output_type": "stream",
          "name": "stdout",
          "text": [
            "          Регіон   1950   1960   1970  1990  2000  2012   2014   2019\n",
            "23   Чернівецька  247.0  218.0  170.0   148   101   128  129.0   92.0\n",
            "24  Чернігівська  220.0  183.0  127.0   108    69    94   90.0   61.0\n",
            "25          Київ    NaN  174.0  159.0   120    73   120  121.0  110.0\n",
            "26   Севастополь    NaN    NaN    NaN   125    70   120    NaN    NaN\n",
            "27       Україна  228.0  205.0  152.0   126    78   114  111.0   81.0\n",
            "(28, 9)\n",
            "(27, 9)\n",
            "          Регіон   1950   1960   1970  1990  2000  2012   2014   2019\n",
            "22     Черкаська  205.0  179.0  144.0   123    75   100   98.0   64.0\n",
            "23   Чернівецька  247.0  218.0  170.0   148   101   128  129.0   92.0\n",
            "24  Чернігівська  220.0  183.0  127.0   108    69    94   90.0   61.0\n",
            "25          Київ    NaN  174.0  159.0   120    73   120  121.0  110.0\n",
            "26   Севастополь    NaN    NaN    NaN   125    70   120    NaN    NaN\n"
          ]
        }
      ]
    },
    {
      "cell_type": "markdown",
      "source": [
        "# Замініть відсутні дані в стовпцях середніми значеннями цих стовпців (метод fillna)"
      ],
      "metadata": {
        "id": "te5szBrKJcww"
      }
    },
    {
      "cell_type": "code",
      "source": [
        "df=df.fillna(df.mean(numeric_only=True))\n",
        "df"
      ],
      "metadata": {
        "colab": {
          "base_uri": "https://localhost:8080/",
          "height": 896
        },
        "id": "kK1H-p11DW7w",
        "outputId": "c7d9821f-aecb-4008-fc9c-f4d10ba2b676"
      },
      "execution_count": 134,
      "outputs": [
        {
          "output_type": "execute_result",
          "data": {
            "text/plain": [
              "               Регіон    1950        1960   1970  1990  2000  2012    2014  \\\n",
              "0                Крим  230.00  206.000000  160.0   130    73   126  111.44   \n",
              "1           Вінницька  224.00  192.000000  142.0   124    84   112  109.00   \n",
              "2           Волинська  247.00  250.000000  179.0   153   112   148  141.00   \n",
              "3    Дніпропетровська  204.00  204.000000  151.0   123    71   112  111.00   \n",
              "4            Донецька  271.00  214.000000  140.0   109    61    98   82.00   \n",
              "5         Житомирська  261.00  223.000000  159.0   129    89   122  120.00   \n",
              "6        Закарпатська  314.00  273.000000  207.0   168   115   151  146.00   \n",
              "7          Запорізька  219.00  197.000000  150.0   124    71   106  106.00   \n",
              "8   Івано-Франківська  243.00  248.000000  182.0   155   103   124  122.00   \n",
              "9            Київська  204.00  189.000000  156.0   123    73   122  121.00   \n",
              "10     Кіровоградська  216.00  171.000000  145.0   126    79   110  108.00   \n",
              "11          Луганська  262.00  235.000000  144.0   116    62    96   51.00   \n",
              "12          Львівська  234.00  240.000000  171.0   140    91   119  119.00   \n",
              "13       Миколаївська  211.00  194.000000  155.0   137    80   115  112.00   \n",
              "14            Одеська  241.00  192.000000  148.0   126    80   127  123.00   \n",
              "15         Полтавська  186.00  163.000000  131.0   118    70    99  100.00   \n",
              "16         Рівненська  269.00  267.000000  193.0   158   118   159  148.00   \n",
              "17            Сумська  216.00  184.000000  132.0   115    70    97   92.00   \n",
              "18      Тернопільська  213.00  216.000000  157.0   142    92   113  109.00   \n",
              "19         Харківська  197.00  173.000000  140.0   114    68    99  101.00   \n",
              "20         Херсонська  208.00  214.000000  166.0   143    85   117  115.00   \n",
              "21        Хмельницька  234.00  198.000000  148.0   129    85   113  112.00   \n",
              "22          Черкаська  205.00  179.000000  144.0   123    75   100   98.00   \n",
              "23        Чернівецька  247.00  218.000000  170.0   148   101   128  129.00   \n",
              "24       Чернігівська  220.00  183.000000  127.0   108    69    94   90.00   \n",
              "25               Київ  231.04  174.000000  159.0   120    73   120  121.00   \n",
              "26        Севастополь  231.04  207.576923  156.0   125    70   120  111.44   \n",
              "\n",
              "          2019  \n",
              "0    80.173913  \n",
              "1    76.000000  \n",
              "2   101.000000  \n",
              "3    71.000000  \n",
              "4    80.173913  \n",
              "5    79.000000  \n",
              "6   104.000000  \n",
              "7    68.000000  \n",
              "8    88.000000  \n",
              "9    80.000000  \n",
              "10   68.000000  \n",
              "11   80.173913  \n",
              "12   87.000000  \n",
              "13   71.000000  \n",
              "14   88.000000  \n",
              "15   65.000000  \n",
              "16  107.000000  \n",
              "17   60.000000  \n",
              "18   76.000000  \n",
              "19   68.000000  \n",
              "20   81.000000  \n",
              "21   79.000000  \n",
              "22   64.000000  \n",
              "23   92.000000  \n",
              "24   61.000000  \n",
              "25  110.000000  \n",
              "26   80.173913  "
            ],
            "text/html": [
              "\n",
              "  <div id=\"df-c7d689ac-c5ea-4e8e-bd82-985cb92a795c\" class=\"colab-df-container\">\n",
              "    <div>\n",
              "<style scoped>\n",
              "    .dataframe tbody tr th:only-of-type {\n",
              "        vertical-align: middle;\n",
              "    }\n",
              "\n",
              "    .dataframe tbody tr th {\n",
              "        vertical-align: top;\n",
              "    }\n",
              "\n",
              "    .dataframe thead th {\n",
              "        text-align: right;\n",
              "    }\n",
              "</style>\n",
              "<table border=\"1\" class=\"dataframe\">\n",
              "  <thead>\n",
              "    <tr style=\"text-align: right;\">\n",
              "      <th></th>\n",
              "      <th>Регіон</th>\n",
              "      <th>1950</th>\n",
              "      <th>1960</th>\n",
              "      <th>1970</th>\n",
              "      <th>1990</th>\n",
              "      <th>2000</th>\n",
              "      <th>2012</th>\n",
              "      <th>2014</th>\n",
              "      <th>2019</th>\n",
              "    </tr>\n",
              "  </thead>\n",
              "  <tbody>\n",
              "    <tr>\n",
              "      <th>0</th>\n",
              "      <td>Крим</td>\n",
              "      <td>230.00</td>\n",
              "      <td>206.000000</td>\n",
              "      <td>160.0</td>\n",
              "      <td>130</td>\n",
              "      <td>73</td>\n",
              "      <td>126</td>\n",
              "      <td>111.44</td>\n",
              "      <td>80.173913</td>\n",
              "    </tr>\n",
              "    <tr>\n",
              "      <th>1</th>\n",
              "      <td>Вінницька</td>\n",
              "      <td>224.00</td>\n",
              "      <td>192.000000</td>\n",
              "      <td>142.0</td>\n",
              "      <td>124</td>\n",
              "      <td>84</td>\n",
              "      <td>112</td>\n",
              "      <td>109.00</td>\n",
              "      <td>76.000000</td>\n",
              "    </tr>\n",
              "    <tr>\n",
              "      <th>2</th>\n",
              "      <td>Волинська</td>\n",
              "      <td>247.00</td>\n",
              "      <td>250.000000</td>\n",
              "      <td>179.0</td>\n",
              "      <td>153</td>\n",
              "      <td>112</td>\n",
              "      <td>148</td>\n",
              "      <td>141.00</td>\n",
              "      <td>101.000000</td>\n",
              "    </tr>\n",
              "    <tr>\n",
              "      <th>3</th>\n",
              "      <td>Дніпропетровська</td>\n",
              "      <td>204.00</td>\n",
              "      <td>204.000000</td>\n",
              "      <td>151.0</td>\n",
              "      <td>123</td>\n",
              "      <td>71</td>\n",
              "      <td>112</td>\n",
              "      <td>111.00</td>\n",
              "      <td>71.000000</td>\n",
              "    </tr>\n",
              "    <tr>\n",
              "      <th>4</th>\n",
              "      <td>Донецька</td>\n",
              "      <td>271.00</td>\n",
              "      <td>214.000000</td>\n",
              "      <td>140.0</td>\n",
              "      <td>109</td>\n",
              "      <td>61</td>\n",
              "      <td>98</td>\n",
              "      <td>82.00</td>\n",
              "      <td>80.173913</td>\n",
              "    </tr>\n",
              "    <tr>\n",
              "      <th>5</th>\n",
              "      <td>Житомирська</td>\n",
              "      <td>261.00</td>\n",
              "      <td>223.000000</td>\n",
              "      <td>159.0</td>\n",
              "      <td>129</td>\n",
              "      <td>89</td>\n",
              "      <td>122</td>\n",
              "      <td>120.00</td>\n",
              "      <td>79.000000</td>\n",
              "    </tr>\n",
              "    <tr>\n",
              "      <th>6</th>\n",
              "      <td>Закарпатська</td>\n",
              "      <td>314.00</td>\n",
              "      <td>273.000000</td>\n",
              "      <td>207.0</td>\n",
              "      <td>168</td>\n",
              "      <td>115</td>\n",
              "      <td>151</td>\n",
              "      <td>146.00</td>\n",
              "      <td>104.000000</td>\n",
              "    </tr>\n",
              "    <tr>\n",
              "      <th>7</th>\n",
              "      <td>Запорізька</td>\n",
              "      <td>219.00</td>\n",
              "      <td>197.000000</td>\n",
              "      <td>150.0</td>\n",
              "      <td>124</td>\n",
              "      <td>71</td>\n",
              "      <td>106</td>\n",
              "      <td>106.00</td>\n",
              "      <td>68.000000</td>\n",
              "    </tr>\n",
              "    <tr>\n",
              "      <th>8</th>\n",
              "      <td>Івано-Франківська</td>\n",
              "      <td>243.00</td>\n",
              "      <td>248.000000</td>\n",
              "      <td>182.0</td>\n",
              "      <td>155</td>\n",
              "      <td>103</td>\n",
              "      <td>124</td>\n",
              "      <td>122.00</td>\n",
              "      <td>88.000000</td>\n",
              "    </tr>\n",
              "    <tr>\n",
              "      <th>9</th>\n",
              "      <td>Київська</td>\n",
              "      <td>204.00</td>\n",
              "      <td>189.000000</td>\n",
              "      <td>156.0</td>\n",
              "      <td>123</td>\n",
              "      <td>73</td>\n",
              "      <td>122</td>\n",
              "      <td>121.00</td>\n",
              "      <td>80.000000</td>\n",
              "    </tr>\n",
              "    <tr>\n",
              "      <th>10</th>\n",
              "      <td>Кіровоградська</td>\n",
              "      <td>216.00</td>\n",
              "      <td>171.000000</td>\n",
              "      <td>145.0</td>\n",
              "      <td>126</td>\n",
              "      <td>79</td>\n",
              "      <td>110</td>\n",
              "      <td>108.00</td>\n",
              "      <td>68.000000</td>\n",
              "    </tr>\n",
              "    <tr>\n",
              "      <th>11</th>\n",
              "      <td>Луганська</td>\n",
              "      <td>262.00</td>\n",
              "      <td>235.000000</td>\n",
              "      <td>144.0</td>\n",
              "      <td>116</td>\n",
              "      <td>62</td>\n",
              "      <td>96</td>\n",
              "      <td>51.00</td>\n",
              "      <td>80.173913</td>\n",
              "    </tr>\n",
              "    <tr>\n",
              "      <th>12</th>\n",
              "      <td>Львівська</td>\n",
              "      <td>234.00</td>\n",
              "      <td>240.000000</td>\n",
              "      <td>171.0</td>\n",
              "      <td>140</td>\n",
              "      <td>91</td>\n",
              "      <td>119</td>\n",
              "      <td>119.00</td>\n",
              "      <td>87.000000</td>\n",
              "    </tr>\n",
              "    <tr>\n",
              "      <th>13</th>\n",
              "      <td>Миколаївська</td>\n",
              "      <td>211.00</td>\n",
              "      <td>194.000000</td>\n",
              "      <td>155.0</td>\n",
              "      <td>137</td>\n",
              "      <td>80</td>\n",
              "      <td>115</td>\n",
              "      <td>112.00</td>\n",
              "      <td>71.000000</td>\n",
              "    </tr>\n",
              "    <tr>\n",
              "      <th>14</th>\n",
              "      <td>Одеська</td>\n",
              "      <td>241.00</td>\n",
              "      <td>192.000000</td>\n",
              "      <td>148.0</td>\n",
              "      <td>126</td>\n",
              "      <td>80</td>\n",
              "      <td>127</td>\n",
              "      <td>123.00</td>\n",
              "      <td>88.000000</td>\n",
              "    </tr>\n",
              "    <tr>\n",
              "      <th>15</th>\n",
              "      <td>Полтавська</td>\n",
              "      <td>186.00</td>\n",
              "      <td>163.000000</td>\n",
              "      <td>131.0</td>\n",
              "      <td>118</td>\n",
              "      <td>70</td>\n",
              "      <td>99</td>\n",
              "      <td>100.00</td>\n",
              "      <td>65.000000</td>\n",
              "    </tr>\n",
              "    <tr>\n",
              "      <th>16</th>\n",
              "      <td>Рівненська</td>\n",
              "      <td>269.00</td>\n",
              "      <td>267.000000</td>\n",
              "      <td>193.0</td>\n",
              "      <td>158</td>\n",
              "      <td>118</td>\n",
              "      <td>159</td>\n",
              "      <td>148.00</td>\n",
              "      <td>107.000000</td>\n",
              "    </tr>\n",
              "    <tr>\n",
              "      <th>17</th>\n",
              "      <td>Сумська</td>\n",
              "      <td>216.00</td>\n",
              "      <td>184.000000</td>\n",
              "      <td>132.0</td>\n",
              "      <td>115</td>\n",
              "      <td>70</td>\n",
              "      <td>97</td>\n",
              "      <td>92.00</td>\n",
              "      <td>60.000000</td>\n",
              "    </tr>\n",
              "    <tr>\n",
              "      <th>18</th>\n",
              "      <td>Тернопільська</td>\n",
              "      <td>213.00</td>\n",
              "      <td>216.000000</td>\n",
              "      <td>157.0</td>\n",
              "      <td>142</td>\n",
              "      <td>92</td>\n",
              "      <td>113</td>\n",
              "      <td>109.00</td>\n",
              "      <td>76.000000</td>\n",
              "    </tr>\n",
              "    <tr>\n",
              "      <th>19</th>\n",
              "      <td>Харківська</td>\n",
              "      <td>197.00</td>\n",
              "      <td>173.000000</td>\n",
              "      <td>140.0</td>\n",
              "      <td>114</td>\n",
              "      <td>68</td>\n",
              "      <td>99</td>\n",
              "      <td>101.00</td>\n",
              "      <td>68.000000</td>\n",
              "    </tr>\n",
              "    <tr>\n",
              "      <th>20</th>\n",
              "      <td>Херсонська</td>\n",
              "      <td>208.00</td>\n",
              "      <td>214.000000</td>\n",
              "      <td>166.0</td>\n",
              "      <td>143</td>\n",
              "      <td>85</td>\n",
              "      <td>117</td>\n",
              "      <td>115.00</td>\n",
              "      <td>81.000000</td>\n",
              "    </tr>\n",
              "    <tr>\n",
              "      <th>21</th>\n",
              "      <td>Хмельницька</td>\n",
              "      <td>234.00</td>\n",
              "      <td>198.000000</td>\n",
              "      <td>148.0</td>\n",
              "      <td>129</td>\n",
              "      <td>85</td>\n",
              "      <td>113</td>\n",
              "      <td>112.00</td>\n",
              "      <td>79.000000</td>\n",
              "    </tr>\n",
              "    <tr>\n",
              "      <th>22</th>\n",
              "      <td>Черкаська</td>\n",
              "      <td>205.00</td>\n",
              "      <td>179.000000</td>\n",
              "      <td>144.0</td>\n",
              "      <td>123</td>\n",
              "      <td>75</td>\n",
              "      <td>100</td>\n",
              "      <td>98.00</td>\n",
              "      <td>64.000000</td>\n",
              "    </tr>\n",
              "    <tr>\n",
              "      <th>23</th>\n",
              "      <td>Чернівецька</td>\n",
              "      <td>247.00</td>\n",
              "      <td>218.000000</td>\n",
              "      <td>170.0</td>\n",
              "      <td>148</td>\n",
              "      <td>101</td>\n",
              "      <td>128</td>\n",
              "      <td>129.00</td>\n",
              "      <td>92.000000</td>\n",
              "    </tr>\n",
              "    <tr>\n",
              "      <th>24</th>\n",
              "      <td>Чернігівська</td>\n",
              "      <td>220.00</td>\n",
              "      <td>183.000000</td>\n",
              "      <td>127.0</td>\n",
              "      <td>108</td>\n",
              "      <td>69</td>\n",
              "      <td>94</td>\n",
              "      <td>90.00</td>\n",
              "      <td>61.000000</td>\n",
              "    </tr>\n",
              "    <tr>\n",
              "      <th>25</th>\n",
              "      <td>Київ</td>\n",
              "      <td>231.04</td>\n",
              "      <td>174.000000</td>\n",
              "      <td>159.0</td>\n",
              "      <td>120</td>\n",
              "      <td>73</td>\n",
              "      <td>120</td>\n",
              "      <td>121.00</td>\n",
              "      <td>110.000000</td>\n",
              "    </tr>\n",
              "    <tr>\n",
              "      <th>26</th>\n",
              "      <td>Севастополь</td>\n",
              "      <td>231.04</td>\n",
              "      <td>207.576923</td>\n",
              "      <td>156.0</td>\n",
              "      <td>125</td>\n",
              "      <td>70</td>\n",
              "      <td>120</td>\n",
              "      <td>111.44</td>\n",
              "      <td>80.173913</td>\n",
              "    </tr>\n",
              "  </tbody>\n",
              "</table>\n",
              "</div>\n",
              "    <div class=\"colab-df-buttons\">\n",
              "\n",
              "  <div class=\"colab-df-container\">\n",
              "    <button class=\"colab-df-convert\" onclick=\"convertToInteractive('df-c7d689ac-c5ea-4e8e-bd82-985cb92a795c')\"\n",
              "            title=\"Convert this dataframe to an interactive table.\"\n",
              "            style=\"display:none;\">\n",
              "\n",
              "  <svg xmlns=\"http://www.w3.org/2000/svg\" height=\"24px\" viewBox=\"0 -960 960 960\">\n",
              "    <path d=\"M120-120v-720h720v720H120Zm60-500h600v-160H180v160Zm220 220h160v-160H400v160Zm0 220h160v-160H400v160ZM180-400h160v-160H180v160Zm440 0h160v-160H620v160ZM180-180h160v-160H180v160Zm440 0h160v-160H620v160Z\"/>\n",
              "  </svg>\n",
              "    </button>\n",
              "\n",
              "  <style>\n",
              "    .colab-df-container {\n",
              "      display:flex;\n",
              "      gap: 12px;\n",
              "    }\n",
              "\n",
              "    .colab-df-convert {\n",
              "      background-color: #E8F0FE;\n",
              "      border: none;\n",
              "      border-radius: 50%;\n",
              "      cursor: pointer;\n",
              "      display: none;\n",
              "      fill: #1967D2;\n",
              "      height: 32px;\n",
              "      padding: 0 0 0 0;\n",
              "      width: 32px;\n",
              "    }\n",
              "\n",
              "    .colab-df-convert:hover {\n",
              "      background-color: #E2EBFA;\n",
              "      box-shadow: 0px 1px 2px rgba(60, 64, 67, 0.3), 0px 1px 3px 1px rgba(60, 64, 67, 0.15);\n",
              "      fill: #174EA6;\n",
              "    }\n",
              "\n",
              "    .colab-df-buttons div {\n",
              "      margin-bottom: 4px;\n",
              "    }\n",
              "\n",
              "    [theme=dark] .colab-df-convert {\n",
              "      background-color: #3B4455;\n",
              "      fill: #D2E3FC;\n",
              "    }\n",
              "\n",
              "    [theme=dark] .colab-df-convert:hover {\n",
              "      background-color: #434B5C;\n",
              "      box-shadow: 0px 1px 3px 1px rgba(0, 0, 0, 0.15);\n",
              "      filter: drop-shadow(0px 1px 2px rgba(0, 0, 0, 0.3));\n",
              "      fill: #FFFFFF;\n",
              "    }\n",
              "  </style>\n",
              "\n",
              "    <script>\n",
              "      const buttonEl =\n",
              "        document.querySelector('#df-c7d689ac-c5ea-4e8e-bd82-985cb92a795c button.colab-df-convert');\n",
              "      buttonEl.style.display =\n",
              "        google.colab.kernel.accessAllowed ? 'block' : 'none';\n",
              "\n",
              "      async function convertToInteractive(key) {\n",
              "        const element = document.querySelector('#df-c7d689ac-c5ea-4e8e-bd82-985cb92a795c');\n",
              "        const dataTable =\n",
              "          await google.colab.kernel.invokeFunction('convertToInteractive',\n",
              "                                                    [key], {});\n",
              "        if (!dataTable) return;\n",
              "\n",
              "        const docLinkHtml = 'Like what you see? Visit the ' +\n",
              "          '<a target=\"_blank\" href=https://colab.research.google.com/notebooks/data_table.ipynb>data table notebook</a>'\n",
              "          + ' to learn more about interactive tables.';\n",
              "        element.innerHTML = '';\n",
              "        dataTable['output_type'] = 'display_data';\n",
              "        await google.colab.output.renderOutput(dataTable, element);\n",
              "        const docLink = document.createElement('div');\n",
              "        docLink.innerHTML = docLinkHtml;\n",
              "        element.appendChild(docLink);\n",
              "      }\n",
              "    </script>\n",
              "  </div>\n",
              "\n",
              "\n",
              "<div id=\"df-20031bf2-6b10-4cc6-9230-ec92b50bd4cf\">\n",
              "  <button class=\"colab-df-quickchart\" onclick=\"quickchart('df-20031bf2-6b10-4cc6-9230-ec92b50bd4cf')\"\n",
              "            title=\"Suggest charts\"\n",
              "            style=\"display:none;\">\n",
              "\n",
              "<svg xmlns=\"http://www.w3.org/2000/svg\" height=\"24px\"viewBox=\"0 0 24 24\"\n",
              "     width=\"24px\">\n",
              "    <g>\n",
              "        <path d=\"M19 3H5c-1.1 0-2 .9-2 2v14c0 1.1.9 2 2 2h14c1.1 0 2-.9 2-2V5c0-1.1-.9-2-2-2zM9 17H7v-7h2v7zm4 0h-2V7h2v10zm4 0h-2v-4h2v4z\"/>\n",
              "    </g>\n",
              "</svg>\n",
              "  </button>\n",
              "\n",
              "<style>\n",
              "  .colab-df-quickchart {\n",
              "      --bg-color: #E8F0FE;\n",
              "      --fill-color: #1967D2;\n",
              "      --hover-bg-color: #E2EBFA;\n",
              "      --hover-fill-color: #174EA6;\n",
              "      --disabled-fill-color: #AAA;\n",
              "      --disabled-bg-color: #DDD;\n",
              "  }\n",
              "\n",
              "  [theme=dark] .colab-df-quickchart {\n",
              "      --bg-color: #3B4455;\n",
              "      --fill-color: #D2E3FC;\n",
              "      --hover-bg-color: #434B5C;\n",
              "      --hover-fill-color: #FFFFFF;\n",
              "      --disabled-bg-color: #3B4455;\n",
              "      --disabled-fill-color: #666;\n",
              "  }\n",
              "\n",
              "  .colab-df-quickchart {\n",
              "    background-color: var(--bg-color);\n",
              "    border: none;\n",
              "    border-radius: 50%;\n",
              "    cursor: pointer;\n",
              "    display: none;\n",
              "    fill: var(--fill-color);\n",
              "    height: 32px;\n",
              "    padding: 0;\n",
              "    width: 32px;\n",
              "  }\n",
              "\n",
              "  .colab-df-quickchart:hover {\n",
              "    background-color: var(--hover-bg-color);\n",
              "    box-shadow: 0 1px 2px rgba(60, 64, 67, 0.3), 0 1px 3px 1px rgba(60, 64, 67, 0.15);\n",
              "    fill: var(--button-hover-fill-color);\n",
              "  }\n",
              "\n",
              "  .colab-df-quickchart-complete:disabled,\n",
              "  .colab-df-quickchart-complete:disabled:hover {\n",
              "    background-color: var(--disabled-bg-color);\n",
              "    fill: var(--disabled-fill-color);\n",
              "    box-shadow: none;\n",
              "  }\n",
              "\n",
              "  .colab-df-spinner {\n",
              "    border: 2px solid var(--fill-color);\n",
              "    border-color: transparent;\n",
              "    border-bottom-color: var(--fill-color);\n",
              "    animation:\n",
              "      spin 1s steps(1) infinite;\n",
              "  }\n",
              "\n",
              "  @keyframes spin {\n",
              "    0% {\n",
              "      border-color: transparent;\n",
              "      border-bottom-color: var(--fill-color);\n",
              "      border-left-color: var(--fill-color);\n",
              "    }\n",
              "    20% {\n",
              "      border-color: transparent;\n",
              "      border-left-color: var(--fill-color);\n",
              "      border-top-color: var(--fill-color);\n",
              "    }\n",
              "    30% {\n",
              "      border-color: transparent;\n",
              "      border-left-color: var(--fill-color);\n",
              "      border-top-color: var(--fill-color);\n",
              "      border-right-color: var(--fill-color);\n",
              "    }\n",
              "    40% {\n",
              "      border-color: transparent;\n",
              "      border-right-color: var(--fill-color);\n",
              "      border-top-color: var(--fill-color);\n",
              "    }\n",
              "    60% {\n",
              "      border-color: transparent;\n",
              "      border-right-color: var(--fill-color);\n",
              "    }\n",
              "    80% {\n",
              "      border-color: transparent;\n",
              "      border-right-color: var(--fill-color);\n",
              "      border-bottom-color: var(--fill-color);\n",
              "    }\n",
              "    90% {\n",
              "      border-color: transparent;\n",
              "      border-bottom-color: var(--fill-color);\n",
              "    }\n",
              "  }\n",
              "</style>\n",
              "\n",
              "  <script>\n",
              "    async function quickchart(key) {\n",
              "      const quickchartButtonEl =\n",
              "        document.querySelector('#' + key + ' button');\n",
              "      quickchartButtonEl.disabled = true;  // To prevent multiple clicks.\n",
              "      quickchartButtonEl.classList.add('colab-df-spinner');\n",
              "      try {\n",
              "        const charts = await google.colab.kernel.invokeFunction(\n",
              "            'suggestCharts', [key], {});\n",
              "      } catch (error) {\n",
              "        console.error('Error during call to suggestCharts:', error);\n",
              "      }\n",
              "      quickchartButtonEl.classList.remove('colab-df-spinner');\n",
              "      quickchartButtonEl.classList.add('colab-df-quickchart-complete');\n",
              "    }\n",
              "    (() => {\n",
              "      let quickchartButtonEl =\n",
              "        document.querySelector('#df-20031bf2-6b10-4cc6-9230-ec92b50bd4cf button');\n",
              "      quickchartButtonEl.style.display =\n",
              "        google.colab.kernel.accessAllowed ? 'block' : 'none';\n",
              "    })();\n",
              "  </script>\n",
              "</div>\n",
              "    </div>\n",
              "  </div>\n"
            ]
          },
          "metadata": {},
          "execution_count": 134
        }
      ]
    },
    {
      "cell_type": "markdown",
      "source": [
        "# Отримайте список регіонів, де рівень народжуваності у 2019 році був вищим за середній по Україні"
      ],
      "metadata": {
        "id": "_wPy3WDPMjdT"
      }
    },
    {
      "cell_type": "code",
      "source": [
        "m = df.mean(numeric_only=True)\n",
        "print(m)\n",
        "print()\n",
        "print(m.mean(numeric_only=True))"
      ],
      "metadata": {
        "colab": {
          "base_uri": "https://localhost:8080/"
        },
        "id": "aLpT18MFMlMs",
        "outputId": "15c619eb-e339-4e7a-9ac6-a176b5f77217"
      },
      "execution_count": 87,
      "outputs": [
        {
          "output_type": "stream",
          "name": "stdout",
          "text": [
            "1950    231.040000\n",
            "1960    207.576923\n",
            "1970    156.000000\n",
            "1990    130.592593\n",
            "2000     82.222222\n",
            "2012    116.555556\n",
            "2014    111.440000\n",
            "2019     80.173913\n",
            "dtype: float64\n",
            "\n",
            "139.45015081134648\n"
          ]
        }
      ]
    },
    {
      "cell_type": "code",
      "source": [
        "m = df['2019'].mean()\n",
        "m"
      ],
      "metadata": {
        "colab": {
          "base_uri": "https://localhost:8080/"
        },
        "id": "onpbqmxtNzLI",
        "outputId": "1fb69461-f9ba-4f3c-c827-892f66f2ae8a"
      },
      "execution_count": 90,
      "outputs": [
        {
          "output_type": "execute_result",
          "data": {
            "text/plain": [
              "80.17391304347827"
            ]
          },
          "metadata": {},
          "execution_count": 90
        }
      ]
    },
    {
      "cell_type": "code",
      "source": [
        "df[ df['2019'] >= df['2019'].mean()][[\"Регіон\", '2019']].sort_values(by='2019',ascending=False)"
      ],
      "metadata": {
        "colab": {
          "base_uri": "https://localhost:8080/",
          "height": 331
        },
        "id": "XsayFx87OCfj",
        "outputId": "2e39ebbc-1211-4019-9c0f-23ac4bcfc310"
      },
      "execution_count": 100,
      "outputs": [
        {
          "output_type": "execute_result",
          "data": {
            "text/plain": [
              "               Регіон   2019\n",
              "25               Київ  110.0\n",
              "16         Рівненська  107.0\n",
              "6        Закарпатська  104.0\n",
              "2           Волинська  101.0\n",
              "23        Чернівецька   92.0\n",
              "8   Івано-Франківська   88.0\n",
              "14            Одеська   88.0\n",
              "12          Львівська   87.0\n",
              "20         Херсонська   81.0"
            ],
            "text/html": [
              "\n",
              "  <div id=\"df-6e2ac5c6-8a7e-4c6d-a3d7-fb26752f049a\" class=\"colab-df-container\">\n",
              "    <div>\n",
              "<style scoped>\n",
              "    .dataframe tbody tr th:only-of-type {\n",
              "        vertical-align: middle;\n",
              "    }\n",
              "\n",
              "    .dataframe tbody tr th {\n",
              "        vertical-align: top;\n",
              "    }\n",
              "\n",
              "    .dataframe thead th {\n",
              "        text-align: right;\n",
              "    }\n",
              "</style>\n",
              "<table border=\"1\" class=\"dataframe\">\n",
              "  <thead>\n",
              "    <tr style=\"text-align: right;\">\n",
              "      <th></th>\n",
              "      <th>Регіон</th>\n",
              "      <th>2019</th>\n",
              "    </tr>\n",
              "  </thead>\n",
              "  <tbody>\n",
              "    <tr>\n",
              "      <th>25</th>\n",
              "      <td>Київ</td>\n",
              "      <td>110.0</td>\n",
              "    </tr>\n",
              "    <tr>\n",
              "      <th>16</th>\n",
              "      <td>Рівненська</td>\n",
              "      <td>107.0</td>\n",
              "    </tr>\n",
              "    <tr>\n",
              "      <th>6</th>\n",
              "      <td>Закарпатська</td>\n",
              "      <td>104.0</td>\n",
              "    </tr>\n",
              "    <tr>\n",
              "      <th>2</th>\n",
              "      <td>Волинська</td>\n",
              "      <td>101.0</td>\n",
              "    </tr>\n",
              "    <tr>\n",
              "      <th>23</th>\n",
              "      <td>Чернівецька</td>\n",
              "      <td>92.0</td>\n",
              "    </tr>\n",
              "    <tr>\n",
              "      <th>8</th>\n",
              "      <td>Івано-Франківська</td>\n",
              "      <td>88.0</td>\n",
              "    </tr>\n",
              "    <tr>\n",
              "      <th>14</th>\n",
              "      <td>Одеська</td>\n",
              "      <td>88.0</td>\n",
              "    </tr>\n",
              "    <tr>\n",
              "      <th>12</th>\n",
              "      <td>Львівська</td>\n",
              "      <td>87.0</td>\n",
              "    </tr>\n",
              "    <tr>\n",
              "      <th>20</th>\n",
              "      <td>Херсонська</td>\n",
              "      <td>81.0</td>\n",
              "    </tr>\n",
              "  </tbody>\n",
              "</table>\n",
              "</div>\n",
              "    <div class=\"colab-df-buttons\">\n",
              "\n",
              "  <div class=\"colab-df-container\">\n",
              "    <button class=\"colab-df-convert\" onclick=\"convertToInteractive('df-6e2ac5c6-8a7e-4c6d-a3d7-fb26752f049a')\"\n",
              "            title=\"Convert this dataframe to an interactive table.\"\n",
              "            style=\"display:none;\">\n",
              "\n",
              "  <svg xmlns=\"http://www.w3.org/2000/svg\" height=\"24px\" viewBox=\"0 -960 960 960\">\n",
              "    <path d=\"M120-120v-720h720v720H120Zm60-500h600v-160H180v160Zm220 220h160v-160H400v160Zm0 220h160v-160H400v160ZM180-400h160v-160H180v160Zm440 0h160v-160H620v160ZM180-180h160v-160H180v160Zm440 0h160v-160H620v160Z\"/>\n",
              "  </svg>\n",
              "    </button>\n",
              "\n",
              "  <style>\n",
              "    .colab-df-container {\n",
              "      display:flex;\n",
              "      gap: 12px;\n",
              "    }\n",
              "\n",
              "    .colab-df-convert {\n",
              "      background-color: #E8F0FE;\n",
              "      border: none;\n",
              "      border-radius: 50%;\n",
              "      cursor: pointer;\n",
              "      display: none;\n",
              "      fill: #1967D2;\n",
              "      height: 32px;\n",
              "      padding: 0 0 0 0;\n",
              "      width: 32px;\n",
              "    }\n",
              "\n",
              "    .colab-df-convert:hover {\n",
              "      background-color: #E2EBFA;\n",
              "      box-shadow: 0px 1px 2px rgba(60, 64, 67, 0.3), 0px 1px 3px 1px rgba(60, 64, 67, 0.15);\n",
              "      fill: #174EA6;\n",
              "    }\n",
              "\n",
              "    .colab-df-buttons div {\n",
              "      margin-bottom: 4px;\n",
              "    }\n",
              "\n",
              "    [theme=dark] .colab-df-convert {\n",
              "      background-color: #3B4455;\n",
              "      fill: #D2E3FC;\n",
              "    }\n",
              "\n",
              "    [theme=dark] .colab-df-convert:hover {\n",
              "      background-color: #434B5C;\n",
              "      box-shadow: 0px 1px 3px 1px rgba(0, 0, 0, 0.15);\n",
              "      filter: drop-shadow(0px 1px 2px rgba(0, 0, 0, 0.3));\n",
              "      fill: #FFFFFF;\n",
              "    }\n",
              "  </style>\n",
              "\n",
              "    <script>\n",
              "      const buttonEl =\n",
              "        document.querySelector('#df-6e2ac5c6-8a7e-4c6d-a3d7-fb26752f049a button.colab-df-convert');\n",
              "      buttonEl.style.display =\n",
              "        google.colab.kernel.accessAllowed ? 'block' : 'none';\n",
              "\n",
              "      async function convertToInteractive(key) {\n",
              "        const element = document.querySelector('#df-6e2ac5c6-8a7e-4c6d-a3d7-fb26752f049a');\n",
              "        const dataTable =\n",
              "          await google.colab.kernel.invokeFunction('convertToInteractive',\n",
              "                                                    [key], {});\n",
              "        if (!dataTable) return;\n",
              "\n",
              "        const docLinkHtml = 'Like what you see? Visit the ' +\n",
              "          '<a target=\"_blank\" href=https://colab.research.google.com/notebooks/data_table.ipynb>data table notebook</a>'\n",
              "          + ' to learn more about interactive tables.';\n",
              "        element.innerHTML = '';\n",
              "        dataTable['output_type'] = 'display_data';\n",
              "        await google.colab.output.renderOutput(dataTable, element);\n",
              "        const docLink = document.createElement('div');\n",
              "        docLink.innerHTML = docLinkHtml;\n",
              "        element.appendChild(docLink);\n",
              "      }\n",
              "    </script>\n",
              "  </div>\n",
              "\n",
              "\n",
              "<div id=\"df-07e91314-dc30-43c7-819f-efb2ae778ef2\">\n",
              "  <button class=\"colab-df-quickchart\" onclick=\"quickchart('df-07e91314-dc30-43c7-819f-efb2ae778ef2')\"\n",
              "            title=\"Suggest charts\"\n",
              "            style=\"display:none;\">\n",
              "\n",
              "<svg xmlns=\"http://www.w3.org/2000/svg\" height=\"24px\"viewBox=\"0 0 24 24\"\n",
              "     width=\"24px\">\n",
              "    <g>\n",
              "        <path d=\"M19 3H5c-1.1 0-2 .9-2 2v14c0 1.1.9 2 2 2h14c1.1 0 2-.9 2-2V5c0-1.1-.9-2-2-2zM9 17H7v-7h2v7zm4 0h-2V7h2v10zm4 0h-2v-4h2v4z\"/>\n",
              "    </g>\n",
              "</svg>\n",
              "  </button>\n",
              "\n",
              "<style>\n",
              "  .colab-df-quickchart {\n",
              "      --bg-color: #E8F0FE;\n",
              "      --fill-color: #1967D2;\n",
              "      --hover-bg-color: #E2EBFA;\n",
              "      --hover-fill-color: #174EA6;\n",
              "      --disabled-fill-color: #AAA;\n",
              "      --disabled-bg-color: #DDD;\n",
              "  }\n",
              "\n",
              "  [theme=dark] .colab-df-quickchart {\n",
              "      --bg-color: #3B4455;\n",
              "      --fill-color: #D2E3FC;\n",
              "      --hover-bg-color: #434B5C;\n",
              "      --hover-fill-color: #FFFFFF;\n",
              "      --disabled-bg-color: #3B4455;\n",
              "      --disabled-fill-color: #666;\n",
              "  }\n",
              "\n",
              "  .colab-df-quickchart {\n",
              "    background-color: var(--bg-color);\n",
              "    border: none;\n",
              "    border-radius: 50%;\n",
              "    cursor: pointer;\n",
              "    display: none;\n",
              "    fill: var(--fill-color);\n",
              "    height: 32px;\n",
              "    padding: 0;\n",
              "    width: 32px;\n",
              "  }\n",
              "\n",
              "  .colab-df-quickchart:hover {\n",
              "    background-color: var(--hover-bg-color);\n",
              "    box-shadow: 0 1px 2px rgba(60, 64, 67, 0.3), 0 1px 3px 1px rgba(60, 64, 67, 0.15);\n",
              "    fill: var(--button-hover-fill-color);\n",
              "  }\n",
              "\n",
              "  .colab-df-quickchart-complete:disabled,\n",
              "  .colab-df-quickchart-complete:disabled:hover {\n",
              "    background-color: var(--disabled-bg-color);\n",
              "    fill: var(--disabled-fill-color);\n",
              "    box-shadow: none;\n",
              "  }\n",
              "\n",
              "  .colab-df-spinner {\n",
              "    border: 2px solid var(--fill-color);\n",
              "    border-color: transparent;\n",
              "    border-bottom-color: var(--fill-color);\n",
              "    animation:\n",
              "      spin 1s steps(1) infinite;\n",
              "  }\n",
              "\n",
              "  @keyframes spin {\n",
              "    0% {\n",
              "      border-color: transparent;\n",
              "      border-bottom-color: var(--fill-color);\n",
              "      border-left-color: var(--fill-color);\n",
              "    }\n",
              "    20% {\n",
              "      border-color: transparent;\n",
              "      border-left-color: var(--fill-color);\n",
              "      border-top-color: var(--fill-color);\n",
              "    }\n",
              "    30% {\n",
              "      border-color: transparent;\n",
              "      border-left-color: var(--fill-color);\n",
              "      border-top-color: var(--fill-color);\n",
              "      border-right-color: var(--fill-color);\n",
              "    }\n",
              "    40% {\n",
              "      border-color: transparent;\n",
              "      border-right-color: var(--fill-color);\n",
              "      border-top-color: var(--fill-color);\n",
              "    }\n",
              "    60% {\n",
              "      border-color: transparent;\n",
              "      border-right-color: var(--fill-color);\n",
              "    }\n",
              "    80% {\n",
              "      border-color: transparent;\n",
              "      border-right-color: var(--fill-color);\n",
              "      border-bottom-color: var(--fill-color);\n",
              "    }\n",
              "    90% {\n",
              "      border-color: transparent;\n",
              "      border-bottom-color: var(--fill-color);\n",
              "    }\n",
              "  }\n",
              "</style>\n",
              "\n",
              "  <script>\n",
              "    async function quickchart(key) {\n",
              "      const quickchartButtonEl =\n",
              "        document.querySelector('#' + key + ' button');\n",
              "      quickchartButtonEl.disabled = true;  // To prevent multiple clicks.\n",
              "      quickchartButtonEl.classList.add('colab-df-spinner');\n",
              "      try {\n",
              "        const charts = await google.colab.kernel.invokeFunction(\n",
              "            'suggestCharts', [key], {});\n",
              "      } catch (error) {\n",
              "        console.error('Error during call to suggestCharts:', error);\n",
              "      }\n",
              "      quickchartButtonEl.classList.remove('colab-df-spinner');\n",
              "      quickchartButtonEl.classList.add('colab-df-quickchart-complete');\n",
              "    }\n",
              "    (() => {\n",
              "      let quickchartButtonEl =\n",
              "        document.querySelector('#df-07e91314-dc30-43c7-819f-efb2ae778ef2 button');\n",
              "      quickchartButtonEl.style.display =\n",
              "        google.colab.kernel.accessAllowed ? 'block' : 'none';\n",
              "    })();\n",
              "  </script>\n",
              "</div>\n",
              "    </div>\n",
              "  </div>\n"
            ]
          },
          "metadata": {},
          "execution_count": 100
        }
      ]
    },
    {
      "cell_type": "markdown",
      "source": [
        "# У якому регіоні була найвища народжуваність у 2014 році?"
      ],
      "metadata": {
        "id": "2US2x_RxPgpM"
      }
    },
    {
      "cell_type": "code",
      "source": [
        "df['2014'].idxmax()"
      ],
      "metadata": {
        "colab": {
          "base_uri": "https://localhost:8080/"
        },
        "id": "js2WB52_QNnW",
        "outputId": "58dec715-1e28-4bad-b1a7-693b83e7c2b7"
      },
      "execution_count": 135,
      "outputs": [
        {
          "output_type": "execute_result",
          "data": {
            "text/plain": [
              "16"
            ]
          },
          "metadata": {},
          "execution_count": 135
        }
      ]
    },
    {
      "cell_type": "code",
      "source": [
        "df.iloc[df['2014'].idxmax()][[\"Регіон\"]]"
      ],
      "metadata": {
        "colab": {
          "base_uri": "https://localhost:8080/"
        },
        "id": "kdis0DZ0Ph__",
        "outputId": "c00e84b7-581f-4696-ff93-d1ec11c5d1e8"
      },
      "execution_count": 112,
      "outputs": [
        {
          "output_type": "execute_result",
          "data": {
            "text/plain": [
              "Регіон    Рівненська\n",
              "Name: 16, dtype: object"
            ]
          },
          "metadata": {},
          "execution_count": 112
        }
      ]
    },
    {
      "cell_type": "markdown",
      "source": [
        "# Побудуйте стовпчикову діаграму народжуваності по регіонах у 2019 році"
      ],
      "metadata": {
        "id": "8LeNdDlkQxD7"
      }
    },
    {
      "cell_type": "code",
      "source": [
        "import matplotlib.pyplot as plt\n",
        "\n",
        "pl = df[[\"Регіон\",'2019']].plot(figsize=(12,4),kind=\"bar\", x=\"Регіон\", ylabel=\"Народжуваність\", title=\"Народжуваність по регіонах у 2019 році\")\n",
        "plt.show()"
      ],
      "metadata": {
        "colab": {
          "base_uri": "https://localhost:8080/",
          "height": 531
        },
        "id": "-VIWOinlQwp6",
        "outputId": "59825aac-89fa-4a30-89db-3997611961ab"
      },
      "execution_count": 143,
      "outputs": [
        {
          "output_type": "display_data",
          "data": {
            "text/plain": [
              "<Figure size 1200x400 with 1 Axes>"
            ],
            "image/png": "[encoded data removed]"
          },
          "metadata": {}
        }
      ]
    }
  ]
}